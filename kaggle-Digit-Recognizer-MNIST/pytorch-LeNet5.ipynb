{
 "cells": [
  {
   "cell_type": "code",
   "execution_count": 1,
   "metadata": {},
   "outputs": [],
   "source": [
    "import numpy as np\n",
    "import pandas as pd\n",
    "\n",
    "import math\n",
    "import random\n",
    "\n",
    "from PIL import Image, ImageOps, ImageEnhance\n",
    "import numbers\n",
    "\n",
    "import matplotlib.pyplot as plt\n",
    "%matplotlib inline"
   ]
  },
  {
   "cell_type": "code",
   "execution_count": 2,
   "metadata": {},
   "outputs": [],
   "source": [
    "import torch\n",
    "import torch.nn as nn\n",
    "import torch.nn.functional as F\n",
    "import torch.optim as optim\n",
    "from torch.optim import lr_scheduler\n",
    "from torch.autograd import Variable\n",
    "from torch.utils.data import DataLoader, Dataset\n",
    "from torchvision import transforms\n",
    "from torchvision.utils import make_grid\n",
    "import torchvision"
   ]
  },
  {
   "cell_type": "code",
   "execution_count": 3,
   "metadata": {},
   "outputs": [
    {
     "name": "stdout",
     "output_type": "stream",
     "text": [
      "cuda:0\n"
     ]
    }
   ],
   "source": [
    "device = torch.device(\"cuda:0\" if torch.cuda.is_available() else \"cpu\")\n",
    "print(device)"
   ]
  },
  {
   "cell_type": "code",
   "execution_count": 4,
   "metadata": {},
   "outputs": [],
   "source": [
    "train_data = pd.read_csv('input/train.csv')"
   ]
  },
  {
   "cell_type": "code",
   "execution_count": 5,
   "metadata": {},
   "outputs": [
    {
     "name": "stdout",
     "output_type": "stream",
     "text": [
      "<class 'pandas.core.frame.DataFrame'>\n",
      "RangeIndex: 42000 entries, 0 to 41999\n",
      "Columns: 785 entries, label to pixel783\n",
      "dtypes: int64(785)\n",
      "memory usage: 251.5 MB\n"
     ]
    }
   ],
   "source": [
    "train_data.info()"
   ]
  },
  {
   "cell_type": "code",
   "execution_count": 6,
   "metadata": {},
   "outputs": [],
   "source": [
    "n_train = len(train_data)\n",
    "n_pixels = len(train_data.columns) - 1\n",
    "n_class = len(set(train_data['label']))"
   ]
  },
  {
   "cell_type": "code",
   "execution_count": 7,
   "metadata": {},
   "outputs": [
    {
     "name": "stdout",
     "output_type": "stream",
     "text": [
      "Number of training samples: 42000\n",
      "Number of training pixels: 784\n",
      "Number of classes: 10\n"
     ]
    }
   ],
   "source": [
    "print('Number of training samples: {0}'.format(n_train))\n",
    "print('Number of training pixels: {0}'.format(n_pixels))\n",
    "print('Number of classes: {0}'.format(n_class))"
   ]
  },
  {
   "cell_type": "code",
   "execution_count": 8,
   "metadata": {},
   "outputs": [],
   "source": [
    "test_data = pd.read_csv('input/test.csv')\n",
    "\n",
    "n_test = len(test_data)\n",
    "n_pixels = len(test_data.columns)"
   ]
  },
  {
   "cell_type": "code",
   "execution_count": 9,
   "metadata": {},
   "outputs": [
    {
     "name": "stdout",
     "output_type": "stream",
     "text": [
      "Number of train samples: 28000\n",
      "Number of test pixels: 784\n"
     ]
    }
   ],
   "source": [
    "print('Number of train samples: {0}'.format(n_test))\n",
    "print('Number of test pixels: {0}'.format(n_pixels))"
   ]
  },
  {
   "cell_type": "code",
   "execution_count": 10,
   "metadata": {},
   "outputs": [
    {
     "name": "stderr",
     "output_type": "stream",
     "text": [
      "C:\\Users\\usr\\Anaconda3\\envs\\Py36\\lib\\site-packages\\ipykernel_launcher.py:3: FutureWarning: Method .as_matrix will be removed in a future version. Use .values instead.\n",
      "  This is separate from the ipykernel package so we can avoid doing imports until\n"
     ]
    },
    {
     "name": "stdout",
     "output_type": "stream",
     "text": [
      "4, 2, 9, 9, 9, 3, 4, 8\n"
     ]
    },
    {
     "data": {
      "image/png": "[encoded data removed]",
      "text/plain": [
       "<Figure size 1152x144 with 1 Axes>"
      ]
     },
     "metadata": {
      "needs_background": "light"
     },
     "output_type": "display_data"
    }
   ],
   "source": [
    "random_sel = np.random.randint(n_train, size=8)\n",
    "\n",
    "grid = make_grid(torch.Tensor((train_data.iloc[random_sel, 1:].as_matrix()/255.).reshape((-1, 28, 28))).unsqueeze(1), nrow=8)\n",
    "plt.rcParams['figure.figsize'] = (16, 2)\n",
    "plt.imshow(grid.numpy().transpose((1,2,0)))\n",
    "plt.axis('off')\n",
    "print(*list(train_data.iloc[random_sel, 0].values), sep = ', ')"
   ]
  },
  {
   "cell_type": "code",
   "execution_count": 11,
   "metadata": {},
   "outputs": [
    {
     "data": {
      "image/png": "[encoded data removed]",
      "text/plain": [
       "<Figure size 576x360 with 1 Axes>"
      ]
     },
     "metadata": {
      "needs_background": "light"
     },
     "output_type": "display_data"
    }
   ],
   "source": [
    "plt.rcParams['figure.figsize'] = (8, 5)\n",
    "plt.bar(train_data['label'].value_counts().index, train_data['label'].value_counts())\n",
    "plt.xticks(np.arange(n_class))\n",
    "plt.xlabel('Class', fontsize=16)\n",
    "plt.ylabel('Count', fontsize=16)\n",
    "plt.grid('on', axis='y')"
   ]
  },
  {
   "cell_type": "code",
   "execution_count": 12,
   "metadata": {},
   "outputs": [
    {
     "data": {
      "text/plain": [
       "(42000, 785, 28, 28)"
      ]
     },
     "execution_count": 12,
     "metadata": {},
     "output_type": "execute_result"
    }
   ],
   "source": [
    "num, px = np.array(train_data).shape\n",
    "height = width = int(np.sqrt(px-1))\n",
    "num, px, height, width"
   ]
  },
  {
   "cell_type": "code",
   "execution_count": 13,
   "metadata": {},
   "outputs": [
    {
     "data": {
      "text/plain": [
       "(0, 255)"
      ]
     },
     "execution_count": 13,
     "metadata": {},
     "output_type": "execute_result"
    }
   ],
   "source": [
    "img_min = np.array(train_data).min()\n",
    "img_max = np.array(train_data).max()\n",
    "img_min, img_max"
   ]
  },
  {
   "cell_type": "code",
   "execution_count": 14,
   "metadata": {},
   "outputs": [
    {
     "data": {
      "text/plain": [
       "0.13087070313475707"
      ]
     },
     "execution_count": 14,
     "metadata": {},
     "output_type": "execute_result"
    }
   ],
   "source": [
    "img_norm_mean = np.array(train_data, dtype=float).mean() / img_max\n",
    "img_norm_mean"
   ]
  },
  {
   "cell_type": "code",
   "execution_count": 15,
   "metadata": {},
   "outputs": [
    {
     "data": {
      "text/plain": [
       "0.3085670315794816"
      ]
     },
     "execution_count": 15,
     "metadata": {},
     "output_type": "execute_result"
    }
   ],
   "source": [
    "img_std = np.sqrt(np.sum((np.array(train_data) / img_max  - img_norm_mean) ** 2) / (num * height * width))\n",
    "img_std"
   ]
  },
  {
   "cell_type": "code",
   "execution_count": 16,
   "metadata": {},
   "outputs": [],
   "source": [
    "class MNIST_data(Dataset):\n",
    "    \"\"\"MNIST dtaa set\"\"\"\n",
    "    \n",
    "    def __init__(self, file_path, \n",
    "                 transform = transforms.Compose([transforms.ToPILImage(), transforms.ToTensor(), \n",
    "                     transforms.Normalize(mean=(img_norm_mean,), std=(img_std,))])\n",
    "                ):\n",
    "        \n",
    "        df = pd.read_csv(file_path)\n",
    "        \n",
    "        if len(df.columns) == n_pixels:\n",
    "            # test data\n",
    "            self.X = df.values.reshape((-1,28,28)).astype(np.uint8)[:,:,:,None]\n",
    "            self.y = None\n",
    "        else:\n",
    "            # training data\n",
    "            self.X = df.iloc[:,1:].values.reshape((-1,28,28)).astype(np.uint8)[:,:,:,None]\n",
    "            self.y = torch.from_numpy(df.iloc[:,0].values)\n",
    "            \n",
    "        self.transform = transform\n",
    "    \n",
    "    def __len__(self):\n",
    "        return len(self.X)\n",
    "\n",
    "    def __getitem__(self, idx):\n",
    "        if self.y is not None:\n",
    "            return self.transform(self.X[idx]), self.y[idx]\n",
    "        else:\n",
    "            return self.transform(self.X[idx])"
   ]
  },
  {
   "cell_type": "code",
   "execution_count": 17,
   "metadata": {},
   "outputs": [],
   "source": [
    "train_dataset = MNIST_data('input/train.csv', transform= transforms.Compose(\n",
    "                            [transforms.ToPILImage(),\n",
    "                             transforms.ToTensor(), \n",
    "                             transforms.Normalize(mean=(img_norm_mean,), std=(img_std,))]))\n",
    "\n",
    "test_dataset = MNIST_data('input/test.csv')"
   ]
  },
  {
   "cell_type": "code",
   "execution_count": 18,
   "metadata": {},
   "outputs": [],
   "source": [
    "batch_size = 8\n",
    "\n",
    "train_loader = torch.utils.data.DataLoader(dataset=train_dataset,\n",
    "                                           batch_size=batch_size, \n",
    "                                           shuffle=True)\n",
    "\n",
    "test_loader = torch.utils.data.DataLoader(dataset=test_dataset,\n",
    "                                           batch_size=batch_size, \n",
    "                                          shuffle=False)"
   ]
  },
  {
   "cell_type": "code",
   "execution_count": 19,
   "metadata": {},
   "outputs": [],
   "source": [
    "class LeNet(nn.Module):\n",
    "    def __init__(self):\n",
    "        super(LeNet, self).__init__()\n",
    "        \n",
    "        self.conv1 = nn.Conv2d(in_channels=1, \n",
    "                               out_channels=4, \n",
    "                               kernel_size=5,\n",
    "                               padding=0)\n",
    "        \n",
    "        self.conv2 = nn.Conv2d(in_channels=4, \n",
    "                               out_channels=8, \n",
    "                               kernel_size=3, \n",
    "                               padding=0)\n",
    "        \n",
    "        #fully connected layers\n",
    "        ## convert matrix with 8*5*5 (= 200) features to a matrix of 120 features (columns)\n",
    "        self.fc1 = nn.Linear(in_features=8*5*5,\n",
    "                             out_features=120) \n",
    "        self.fc2 = nn.Linear(in_features=120, \n",
    "                             out_features=84)\n",
    "        self.fc3 = nn.Linear(in_features=84, \n",
    "                             out_features=10)\n",
    "\n",
    "    def forward(self, x):\n",
    "        \n",
    "        # convolve, then perform ReLU non-linearity\n",
    "        # max-pooling with 2x2 grid \n",
    "        x = F.max_pool2d(F.relu(self.conv1(x)), 2)\n",
    "        x = F.max_pool2d(F.relu(self.conv2(x)), 2)\n",
    "        \n",
    "        # flattening convolutional layer\n",
    "        x = x.view(-1, 8 * 5 * 5)\n",
    "        \n",
    "        # fully-connected layers + perform ReLU non-linearity\n",
    "        x = F.relu(self.fc1(x))\n",
    "        x = F.relu(self.fc2(x))\n",
    "        x = F.log_softmax(self.fc3(x), dim=1)\n",
    "        return x\n",
    "    \n",
    "    def features_2(self, x):\n",
    "        x = F.relu(self.conv1(x))\n",
    "        x = F.relu(self.conv2(x))\n",
    "        return x\n",
    "    \n",
    "    def features_1(self, x):\n",
    "        x = F.relu(self.conv1(x))\n",
    "        return x"
   ]
  },
  {
   "cell_type": "code",
   "execution_count": 36,
   "metadata": {},
   "outputs": [
    {
     "data": {
      "text/plain": [
       "LeNet(\n",
       "  (conv1): Conv2d(1, 4, kernel_size=(5, 5), stride=(1, 1))\n",
       "  (conv2): Conv2d(4, 8, kernel_size=(3, 3), stride=(1, 1))\n",
       "  (fc1): Linear(in_features=200, out_features=120, bias=True)\n",
       "  (fc2): Linear(in_features=120, out_features=84, bias=True)\n",
       "  (fc3): Linear(in_features=84, out_features=10, bias=True)\n",
       ")"
      ]
     },
     "execution_count": 36,
     "metadata": {},
     "output_type": "execute_result"
    }
   ],
   "source": [
    "model = LeNet()\n",
    "model.to(device)"
   ]
  },
  {
   "cell_type": "code",
   "execution_count": 37,
   "metadata": {},
   "outputs": [
    {
     "data": {
      "text/plain": [
       "<torch._C.Generator at 0x282b8c0ddf0>"
      ]
     },
     "execution_count": 37,
     "metadata": {},
     "output_type": "execute_result"
    }
   ],
   "source": [
    "loss_function = nn.CrossEntropyLoss()\n",
    "optimizer = optim.SGD(model.parameters(), lr=0.0001, momentum=0.9)\n",
    "torch.manual_seed(123)"
   ]
  },
  {
   "cell_type": "code",
   "execution_count": 38,
   "metadata": {},
   "outputs": [],
   "source": [
    "epochs = 20\n",
    "log_interval = 1000\n",
    "iterations = len(train_loader.dataset)//batch_size"
   ]
  },
  {
   "cell_type": "code",
   "execution_count": 39,
   "metadata": {},
   "outputs": [
    {
     "name": "stdout",
     "output_type": "stream",
     "text": [
      "training set size                 42000\n",
      "validation set size               28000\n",
      "batch size (training/validation)  8\n",
      "iterations in epoch               5250\n"
     ]
    }
   ],
   "source": [
    "print(\"training set size                \", len(train_loader.dataset))\n",
    "print(\"validation set size              \", len(test_loader.dataset))\n",
    "print(\"batch size (training/validation) \", batch_size)\n",
    "print(\"iterations in epoch              \", iterations)"
   ]
  },
  {
   "cell_type": "code",
   "execution_count": 40,
   "metadata": {},
   "outputs": [
    {
     "name": "stdout",
     "output_type": "stream",
     "text": [
      "=== epoch  1 ===\n",
      "Epoch 1, step  1000 loss: 2.292\n",
      "Epoch 1, step  2000 loss: 2.255\n",
      "Epoch 1, step  3000 loss: 2.068\n",
      "Epoch 1, step  4000 loss: 1.111\n",
      "Epoch 1, step  5000 loss: 0.631\n",
      "=== epoch  2 ===\n",
      "Epoch 2, step  1000 loss: 0.480\n",
      "Epoch 2, step  2000 loss: 0.423\n",
      "Epoch 2, step  3000 loss: 0.375\n",
      "Epoch 2, step  4000 loss: 0.353\n",
      "Epoch 2, step  5000 loss: 0.325\n",
      "=== epoch  3 ===\n",
      "Epoch 3, step  1000 loss: 0.291\n",
      "Epoch 3, step  2000 loss: 0.279\n",
      "Epoch 3, step  3000 loss: 0.255\n",
      "Epoch 3, step  4000 loss: 0.250\n",
      "Epoch 3, step  5000 loss: 0.222\n",
      "=== epoch  4 ===\n",
      "Epoch 4, step  1000 loss: 0.208\n",
      "Epoch 4, step  2000 loss: 0.202\n",
      "Epoch 4, step  3000 loss: 0.186\n",
      "Epoch 4, step  4000 loss: 0.181\n",
      "Epoch 4, step  5000 loss: 0.184\n",
      "=== epoch  5 ===\n",
      "Epoch 5, step  1000 loss: 0.165\n",
      "Epoch 5, step  2000 loss: 0.149\n",
      "Epoch 5, step  3000 loss: 0.162\n",
      "Epoch 5, step  4000 loss: 0.154\n",
      "Epoch 5, step  5000 loss: 0.140\n",
      "=== epoch  6 ===\n",
      "Epoch 6, step  1000 loss: 0.134\n",
      "Epoch 6, step  2000 loss: 0.125\n",
      "Epoch 6, step  3000 loss: 0.131\n",
      "Epoch 6, step  4000 loss: 0.137\n",
      "Epoch 6, step  5000 loss: 0.124\n",
      "=== epoch  7 ===\n",
      "Epoch 7, step  1000 loss: 0.124\n",
      "Epoch 7, step  2000 loss: 0.118\n",
      "Epoch 7, step  3000 loss: 0.115\n",
      "Epoch 7, step  4000 loss: 0.115\n",
      "Epoch 7, step  5000 loss: 0.105\n",
      "=== epoch  8 ===\n",
      "Epoch 8, step  1000 loss: 0.110\n",
      "Epoch 8, step  2000 loss: 0.105\n",
      "Epoch 8, step  3000 loss: 0.099\n",
      "Epoch 8, step  4000 loss: 0.104\n",
      "Epoch 8, step  5000 loss: 0.092\n",
      "=== epoch  9 ===\n",
      "Epoch 9, step  1000 loss: 0.097\n",
      "Epoch 9, step  2000 loss: 0.105\n",
      "Epoch 9, step  3000 loss: 0.085\n",
      "Epoch 9, step  4000 loss: 0.091\n",
      "Epoch 9, step  5000 loss: 0.092\n",
      "=== epoch 10 ===\n",
      "Epoch 10, step  1000 loss: 0.091\n",
      "Epoch 10, step  2000 loss: 0.086\n",
      "Epoch 10, step  3000 loss: 0.079\n",
      "Epoch 10, step  4000 loss: 0.081\n",
      "Epoch 10, step  5000 loss: 0.083\n",
      "=== epoch 11 ===\n",
      "Epoch 11, step  1000 loss: 0.078\n",
      "Epoch 11, step  2000 loss: 0.080\n",
      "Epoch 11, step  3000 loss: 0.081\n",
      "Epoch 11, step  4000 loss: 0.084\n",
      "Epoch 11, step  5000 loss: 0.071\n",
      "=== epoch 12 ===\n",
      "Epoch 12, step  1000 loss: 0.071\n",
      "Epoch 12, step  2000 loss: 0.072\n",
      "Epoch 12, step  3000 loss: 0.080\n",
      "Epoch 12, step  4000 loss: 0.074\n",
      "Epoch 12, step  5000 loss: 0.075\n",
      "=== epoch 13 ===\n",
      "Epoch 13, step  1000 loss: 0.069\n",
      "Epoch 13, step  2000 loss: 0.075\n",
      "Epoch 13, step  3000 loss: 0.072\n",
      "Epoch 13, step  4000 loss: 0.062\n",
      "Epoch 13, step  5000 loss: 0.067\n",
      "=== epoch 14 ===\n",
      "Epoch 14, step  1000 loss: 0.068\n",
      "Epoch 14, step  2000 loss: 0.061\n",
      "Epoch 14, step  3000 loss: 0.065\n",
      "Epoch 14, step  4000 loss: 0.062\n",
      "Epoch 14, step  5000 loss: 0.066\n",
      "=== epoch 15 ===\n",
      "Epoch 15, step  1000 loss: 0.059\n",
      "Epoch 15, step  2000 loss: 0.065\n",
      "Epoch 15, step  3000 loss: 0.061\n",
      "Epoch 15, step  4000 loss: 0.066\n",
      "Epoch 15, step  5000 loss: 0.061\n",
      "=== epoch 16 ===\n",
      "Epoch 16, step  1000 loss: 0.051\n",
      "Epoch 16, step  2000 loss: 0.057\n",
      "Epoch 16, step  3000 loss: 0.064\n",
      "Epoch 16, step  4000 loss: 0.061\n",
      "Epoch 16, step  5000 loss: 0.056\n",
      "=== epoch 17 ===\n",
      "Epoch 17, step  1000 loss: 0.056\n",
      "Epoch 17, step  2000 loss: 0.065\n",
      "Epoch 17, step  3000 loss: 0.051\n",
      "Epoch 17, step  4000 loss: 0.055\n",
      "Epoch 17, step  5000 loss: 0.056\n",
      "=== epoch 18 ===\n",
      "Epoch 18, step  1000 loss: 0.056\n",
      "Epoch 18, step  2000 loss: 0.053\n",
      "Epoch 18, step  3000 loss: 0.052\n",
      "Epoch 18, step  4000 loss: 0.058\n",
      "Epoch 18, step  5000 loss: 0.051\n",
      "=== epoch 19 ===\n",
      "Epoch 19, step  1000 loss: 0.050\n",
      "Epoch 19, step  2000 loss: 0.058\n",
      "Epoch 19, step  3000 loss: 0.048\n",
      "Epoch 19, step  4000 loss: 0.047\n",
      "Epoch 19, step  5000 loss: 0.057\n",
      "=== epoch 20 ===\n",
      "Epoch 20, step  1000 loss: 0.043\n",
      "Epoch 20, step  2000 loss: 0.055\n",
      "Epoch 20, step  3000 loss: 0.043\n",
      "Epoch 20, step  4000 loss: 0.057\n",
      "Epoch 20, step  5000 loss: 0.052\n",
      "Wall time: 12min 33s\n"
     ]
    }
   ],
   "source": [
    "%%time\n",
    "\n",
    "for epoch in range(epochs): # entire dataset is passed forward and backward through the nn\n",
    "    model.train()\n",
    "    \n",
    "    epoch_training_loss = 0\n",
    "    print(\"=== epoch %2d ===\" % (epoch + 1))\n",
    "    \n",
    "    for batch_idx, training_batch in enumerate(train_loader, 0):        \n",
    "        inputs, labels = training_batch[0].to(device), training_batch[1].to(device)\n",
    "        \n",
    "        # zero the parameter gradients\n",
    "        optimizer.zero_grad()\n",
    "\n",
    "        # forward propagation\n",
    "        outputs = model(inputs)\n",
    "        \n",
    "        loss = loss_function(outputs, labels)\n",
    "        \n",
    "        #backward propagation\n",
    "        loss.backward()\n",
    "        \n",
    "        # Update the parameters(weight,bias)\n",
    "        optimizer.step()\n",
    "        \n",
    "        epoch_training_loss += loss.item()# .data\n",
    "        if batch_idx % 1000 == 999:    \n",
    "            print('Epoch %d, step %5d loss: %.3f' %\n",
    "                  (epoch + 1, batch_idx + 1, epoch_training_loss / 1000))\n",
    "            epoch_training_loss = 0.0\n"
   ]
  },
  {
   "cell_type": "code",
   "execution_count": 41,
   "metadata": {},
   "outputs": [],
   "source": [
    "model.eval()\n",
    "test_pred = torch.LongTensor()\n",
    "test_pred = test_pred.to(device)\n",
    "with torch.no_grad():\n",
    "    for i, data in enumerate(test_loader):\n",
    "        data = data.to(device)\n",
    "        output = model(data)\n",
    "        pred = output.data.max(1, keepdim=True)[1]\n",
    "        test_pred = torch.cat((test_pred, pred), dim=0)"
   ]
  },
  {
   "cell_type": "code",
   "execution_count": 42,
   "metadata": {},
   "outputs": [
    {
     "data": {
      "text/plain": [
       "tensor([[2],\n",
       "        [0],\n",
       "        [9],\n",
       "        ...,\n",
       "        [3],\n",
       "        [9],\n",
       "        [2]], device='cuda:0')"
      ]
     },
     "execution_count": 42,
     "metadata": {},
     "output_type": "execute_result"
    }
   ],
   "source": [
    "test_pred "
   ]
  },
  {
   "cell_type": "code",
   "execution_count": 43,
   "metadata": {},
   "outputs": [],
   "source": [
    "out_df = pd.DataFrame(np.c_[np.arange(1, len(test_dataset)+1)[:,None], test_pred.cpu().numpy()], \n",
    "                      columns=['ImageId', 'Label'])"
   ]
  },
  {
   "cell_type": "code",
   "execution_count": 44,
   "metadata": {},
   "outputs": [
    {
     "data": {
      "text/html": [
       "<div>\n",
       "<style scoped>\n",
       "    .dataframe tbody tr th:only-of-type {\n",
       "        vertical-align: middle;\n",
       "    }\n",
       "\n",
       "    .dataframe tbody tr th {\n",
       "        vertical-align: top;\n",
       "    }\n",
       "\n",
       "    .dataframe thead th {\n",
       "        text-align: right;\n",
       "    }\n",
       "</style>\n",
       "<table border=\"1\" class=\"dataframe\">\n",
       "  <thead>\n",
       "    <tr style=\"text-align: right;\">\n",
       "      <th></th>\n",
       "      <th>ImageId</th>\n",
       "      <th>Label</th>\n",
       "    </tr>\n",
       "  </thead>\n",
       "  <tbody>\n",
       "    <tr>\n",
       "      <th>0</th>\n",
       "      <td>1</td>\n",
       "      <td>2</td>\n",
       "    </tr>\n",
       "    <tr>\n",
       "      <th>1</th>\n",
       "      <td>2</td>\n",
       "      <td>0</td>\n",
       "    </tr>\n",
       "    <tr>\n",
       "      <th>2</th>\n",
       "      <td>3</td>\n",
       "      <td>9</td>\n",
       "    </tr>\n",
       "    <tr>\n",
       "      <th>3</th>\n",
       "      <td>4</td>\n",
       "      <td>9</td>\n",
       "    </tr>\n",
       "    <tr>\n",
       "      <th>4</th>\n",
       "      <td>5</td>\n",
       "      <td>3</td>\n",
       "    </tr>\n",
       "  </tbody>\n",
       "</table>\n",
       "</div>"
      ],
      "text/plain": [
       "   ImageId  Label\n",
       "0        1      2\n",
       "1        2      0\n",
       "2        3      9\n",
       "3        4      9\n",
       "4        5      3"
      ]
     },
     "execution_count": 44,
     "metadata": {},
     "output_type": "execute_result"
    }
   ],
   "source": [
    "out_df.head()"
   ]
  },
  {
   "cell_type": "code",
   "execution_count": 45,
   "metadata": {},
   "outputs": [],
   "source": [
    "out_df.to_csv('submission_LeNet5.csv', index=False)"
   ]
  },
  {
   "cell_type": "markdown",
   "metadata": {},
   "source": [
    "![wtf](images\\submissions.jpg)"
   ]
  }
 ],
 "metadata": {
  "kernelspec": {
   "display_name": "Python [conda env:Py36] *",
   "language": "python",
   "name": "conda-env-Py36-py"
  },
  "language_info": {
   "codemirror_mode": {
    "name": "ipython",
    "version": 3
   },
   "file_extension": ".py",
   "mimetype": "text/x-python",
   "name": "python",
   "nbconvert_exporter": "python",
   "pygments_lexer": "ipython3",
   "version": "3.6.8"
  }
 },
 "nbformat": 4,
 "nbformat_minor": 2
}
